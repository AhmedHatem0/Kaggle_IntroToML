{
 "cells": [
  {
   "cell_type": "markdown",
   "id": "4574f5dd",
   "metadata": {
    "papermill": {
     "duration": 0.004777,
     "end_time": "2022-09-01T02:14:51.618561",
     "exception": false,
     "start_time": "2022-09-01T02:14:51.613784",
     "status": "completed"
    },
    "tags": []
   },
   "source": [
    "**This notebook is an exercise in the [Introduction to Machine Learning](https://www.kaggle.com/learn/intro-to-machine-learning) course.  You can reference the tutorial at [this link](https://www.kaggle.com/dansbecker/your-first-machine-learning-model).**\n",
    "\n",
    "---\n"
   ]
  },
  {
   "cell_type": "markdown",
   "id": "aea8f773",
   "metadata": {
    "papermill": {
     "duration": 0.003795,
     "end_time": "2022-09-01T02:14:51.626397",
     "exception": false,
     "start_time": "2022-09-01T02:14:51.622602",
     "status": "completed"
    },
    "tags": []
   },
   "source": [
    "## Recap\n",
    "So far, you have loaded your data and reviewed it with the following code. Run this cell to set up your coding environment where the previous step left off."
   ]
  },
  {
   "cell_type": "code",
   "execution_count": 1,
   "id": "9efd5eaf",
   "metadata": {
    "execution": {
     "iopub.execute_input": "2022-09-01T02:14:51.636977Z",
     "iopub.status.busy": "2022-09-01T02:14:51.636338Z",
     "iopub.status.idle": "2022-09-01T02:14:52.887725Z",
     "shell.execute_reply": "2022-09-01T02:14:52.886668Z"
    },
    "papermill": {
     "duration": 1.259532,
     "end_time": "2022-09-01T02:14:52.889962",
     "exception": false,
     "start_time": "2022-09-01T02:14:51.630430",
     "status": "completed"
    },
    "tags": []
   },
   "outputs": [
    {
     "name": "stdout",
     "output_type": "stream",
     "text": [
      "Setup Complete\n"
     ]
    }
   ],
   "source": [
    "# Code you have previously used to load data\n",
    "import pandas as pd\n",
    "\n",
    "# Path of the file to read\n",
    "iowa_file_path = '../input/home-data-for-ml-course/train.csv'\n",
    "\n",
    "home_data = pd.read_csv(iowa_file_path)\n",
    "\n",
    "# Set up code checking\n",
    "from learntools.core import binder\n",
    "binder.bind(globals())\n",
    "from learntools.machine_learning.ex3 import *\n",
    "\n",
    "print(\"Setup Complete\")"
   ]
  },
  {
   "cell_type": "markdown",
   "id": "9da52cd0",
   "metadata": {
    "papermill": {
     "duration": 0.004185,
     "end_time": "2022-09-01T02:14:52.898898",
     "exception": false,
     "start_time": "2022-09-01T02:14:52.894713",
     "status": "completed"
    },
    "tags": []
   },
   "source": [
    "# Exercises\n",
    "\n",
    "## Step 1: Specify Prediction Target\n",
    "Select the target variable, which corresponds to the sales price. Save this to a new variable called `y`. You'll need to print a list of the columns to find the name of the column you need.\n"
   ]
  },
  {
   "cell_type": "code",
   "execution_count": 2,
   "id": "7820cbe4",
   "metadata": {
    "execution": {
     "iopub.execute_input": "2022-09-01T02:14:52.908904Z",
     "iopub.status.busy": "2022-09-01T02:14:52.908582Z",
     "iopub.status.idle": "2022-09-01T02:14:52.916365Z",
     "shell.execute_reply": "2022-09-01T02:14:52.915631Z"
    },
    "papermill": {
     "duration": 0.014929,
     "end_time": "2022-09-01T02:14:52.918172",
     "exception": false,
     "start_time": "2022-09-01T02:14:52.903243",
     "status": "completed"
    },
    "tags": []
   },
   "outputs": [
    {
     "data": {
      "text/plain": [
       "Index(['Id', 'MSSubClass', 'MSZoning', 'LotFrontage', 'LotArea', 'Street',\n",
       "       'Alley', 'LotShape', 'LandContour', 'Utilities', 'LotConfig',\n",
       "       'LandSlope', 'Neighborhood', 'Condition1', 'Condition2', 'BldgType',\n",
       "       'HouseStyle', 'OverallQual', 'OverallCond', 'YearBuilt', 'YearRemodAdd',\n",
       "       'RoofStyle', 'RoofMatl', 'Exterior1st', 'Exterior2nd', 'MasVnrType',\n",
       "       'MasVnrArea', 'ExterQual', 'ExterCond', 'Foundation', 'BsmtQual',\n",
       "       'BsmtCond', 'BsmtExposure', 'BsmtFinType1', 'BsmtFinSF1',\n",
       "       'BsmtFinType2', 'BsmtFinSF2', 'BsmtUnfSF', 'TotalBsmtSF', 'Heating',\n",
       "       'HeatingQC', 'CentralAir', 'Electrical', '1stFlrSF', '2ndFlrSF',\n",
       "       'LowQualFinSF', 'GrLivArea', 'BsmtFullBath', 'BsmtHalfBath', 'FullBath',\n",
       "       'HalfBath', 'BedroomAbvGr', 'KitchenAbvGr', 'KitchenQual',\n",
       "       'TotRmsAbvGrd', 'Functional', 'Fireplaces', 'FireplaceQu', 'GarageType',\n",
       "       'GarageYrBlt', 'GarageFinish', 'GarageCars', 'GarageArea', 'GarageQual',\n",
       "       'GarageCond', 'PavedDrive', 'WoodDeckSF', 'OpenPorchSF',\n",
       "       'EnclosedPorch', '3SsnPorch', 'ScreenPorch', 'PoolArea', 'PoolQC',\n",
       "       'Fence', 'MiscFeature', 'MiscVal', 'MoSold', 'YrSold', 'SaleType',\n",
       "       'SaleCondition', 'SalePrice'],\n",
       "      dtype='object')"
      ]
     },
     "execution_count": 2,
     "metadata": {},
     "output_type": "execute_result"
    }
   ],
   "source": [
    "# print the list of columns in the dataset to find the name of the prediction target\n",
    "home_data.columns"
   ]
  },
  {
   "cell_type": "code",
   "execution_count": 3,
   "id": "2cf203e2",
   "metadata": {
    "execution": {
     "iopub.execute_input": "2022-09-01T02:14:52.928747Z",
     "iopub.status.busy": "2022-09-01T02:14:52.928193Z",
     "iopub.status.idle": "2022-09-01T02:14:52.940981Z",
     "shell.execute_reply": "2022-09-01T02:14:52.939588Z"
    },
    "papermill": {
     "duration": 0.021095,
     "end_time": "2022-09-01T02:14:52.943751",
     "exception": false,
     "start_time": "2022-09-01T02:14:52.922656",
     "status": "completed"
    },
    "tags": []
   },
   "outputs": [
    {
     "data": {
      "application/javascript": [
       "parent.postMessage({\"jupyterEvent\": \"custom.exercise_interaction\", \"data\": {\"outcomeType\": 1, \"valueTowardsCompletion\": 0.25, \"interactionType\": 1, \"questionType\": 2, \"questionId\": \"1_SetTarget\", \"learnToolsVersion\": \"0.3.4\", \"failureMessage\": \"\", \"exceptionClass\": \"\", \"trace\": \"\"}}, \"*\")"
      ],
      "text/plain": [
       "<IPython.core.display.Javascript object>"
      ]
     },
     "metadata": {},
     "output_type": "display_data"
    },
    {
     "data": {
      "text/markdown": [
       "<span style=\"color:#33cc33\">Correct</span>"
      ],
      "text/plain": [
       "Correct"
      ]
     },
     "metadata": {},
     "output_type": "display_data"
    }
   ],
   "source": [
    "y = home_data.SalePrice\n",
    "\n",
    "# Check your answer\n",
    "step_1.check()"
   ]
  },
  {
   "cell_type": "code",
   "execution_count": 4,
   "id": "874e24fb",
   "metadata": {
    "collapsed": true,
    "execution": {
     "iopub.execute_input": "2022-09-01T02:14:52.954663Z",
     "iopub.status.busy": "2022-09-01T02:14:52.954087Z",
     "iopub.status.idle": "2022-09-01T02:14:52.958302Z",
     "shell.execute_reply": "2022-09-01T02:14:52.957629Z"
    },
    "jupyter": {
     "outputs_hidden": true
    },
    "papermill": {
     "duration": 0.011704,
     "end_time": "2022-09-01T02:14:52.960220",
     "exception": false,
     "start_time": "2022-09-01T02:14:52.948516",
     "status": "completed"
    },
    "tags": []
   },
   "outputs": [],
   "source": [
    "# The lines below will show you a hint or the solution.\n",
    "# step_1.hint() \n",
    "# step_1.solution()"
   ]
  },
  {
   "cell_type": "markdown",
   "id": "255c5a69",
   "metadata": {
    "papermill": {
     "duration": 0.004099,
     "end_time": "2022-09-01T02:14:52.968979",
     "exception": false,
     "start_time": "2022-09-01T02:14:52.964880",
     "status": "completed"
    },
    "tags": []
   },
   "source": [
    "## Step 2: Create X\n",
    "Now you will create a DataFrame called `X` holding the predictive features.\n",
    "\n",
    "Since you want only some columns from the original data, you'll first create a list with the names of the columns you want in `X`.\n",
    "\n",
    "You'll use just the following columns in the list (you can copy and paste the whole list to save some typing, though you'll still need to add quotes):\n",
    "  * LotArea\n",
    "  * YearBuilt\n",
    "  * 1stFlrSF\n",
    "  * 2ndFlrSF\n",
    "  * FullBath\n",
    "  * BedroomAbvGr\n",
    "  * TotRmsAbvGrd\n",
    "\n",
    "After you've created that list of features, use it to create the DataFrame that you'll use to fit the model."
   ]
  },
  {
   "cell_type": "code",
   "execution_count": 5,
   "id": "07cb4c71",
   "metadata": {
    "execution": {
     "iopub.execute_input": "2022-09-01T02:14:52.979360Z",
     "iopub.status.busy": "2022-09-01T02:14:52.978683Z",
     "iopub.status.idle": "2022-09-01T02:14:52.991163Z",
     "shell.execute_reply": "2022-09-01T02:14:52.990228Z"
    },
    "papermill": {
     "duration": 0.019533,
     "end_time": "2022-09-01T02:14:52.992925",
     "exception": false,
     "start_time": "2022-09-01T02:14:52.973392",
     "status": "completed"
    },
    "tags": []
   },
   "outputs": [
    {
     "data": {
      "application/javascript": [
       "parent.postMessage({\"jupyterEvent\": \"custom.exercise_interaction\", \"data\": {\"outcomeType\": 1, \"valueTowardsCompletion\": 0.25, \"interactionType\": 1, \"questionType\": 2, \"questionId\": \"2_SelectPredictionData\", \"learnToolsVersion\": \"0.3.4\", \"failureMessage\": \"\", \"exceptionClass\": \"\", \"trace\": \"\"}}, \"*\")"
      ],
      "text/plain": [
       "<IPython.core.display.Javascript object>"
      ]
     },
     "metadata": {},
     "output_type": "display_data"
    },
    {
     "data": {
      "text/markdown": [
       "<span style=\"color:#33cc33\">Correct</span>"
      ],
      "text/plain": [
       "Correct"
      ]
     },
     "metadata": {},
     "output_type": "display_data"
    }
   ],
   "source": [
    "# Create the list of features below\n",
    "feature_names = ['LotArea','YearBuilt','1stFlrSF','2ndFlrSF','FullBath','BedroomAbvGr','TotRmsAbvGrd']\n",
    "\n",
    "# Select data corresponding to features in feature_names\n",
    "X = home_data[feature_names]\n",
    "\n",
    "# Check your answer\n",
    "step_2.check()"
   ]
  },
  {
   "cell_type": "code",
   "execution_count": 6,
   "id": "30affa79",
   "metadata": {
    "collapsed": true,
    "execution": {
     "iopub.execute_input": "2022-09-01T02:14:53.003924Z",
     "iopub.status.busy": "2022-09-01T02:14:53.003310Z",
     "iopub.status.idle": "2022-09-01T02:14:53.007057Z",
     "shell.execute_reply": "2022-09-01T02:14:53.006484Z"
    },
    "jupyter": {
     "outputs_hidden": true
    },
    "papermill": {
     "duration": 0.011335,
     "end_time": "2022-09-01T02:14:53.008842",
     "exception": false,
     "start_time": "2022-09-01T02:14:52.997507",
     "status": "completed"
    },
    "tags": []
   },
   "outputs": [],
   "source": [
    "# step_2.hint()\n",
    "# step_2.solution()"
   ]
  },
  {
   "cell_type": "markdown",
   "id": "734f26a4",
   "metadata": {
    "papermill": {
     "duration": 0.004412,
     "end_time": "2022-09-01T02:14:53.017970",
     "exception": false,
     "start_time": "2022-09-01T02:14:53.013558",
     "status": "completed"
    },
    "tags": []
   },
   "source": [
    "## Review Data\n",
    "Before building a model, take a quick look at **X** to verify it looks sensible"
   ]
  },
  {
   "cell_type": "code",
   "execution_count": 7,
   "id": "5b39914c",
   "metadata": {
    "execution": {
     "iopub.execute_input": "2022-09-01T02:14:53.028631Z",
     "iopub.status.busy": "2022-09-01T02:14:53.027902Z",
     "iopub.status.idle": "2022-09-01T02:14:53.060363Z",
     "shell.execute_reply": "2022-09-01T02:14:53.059111Z"
    },
    "papermill": {
     "duration": 0.039933,
     "end_time": "2022-09-01T02:14:53.062401",
     "exception": false,
     "start_time": "2022-09-01T02:14:53.022468",
     "status": "completed"
    },
    "tags": []
   },
   "outputs": [
    {
     "name": "stdout",
     "output_type": "stream",
     "text": [
      "             LotArea    YearBuilt     1stFlrSF     2ndFlrSF     FullBath  \\\n",
      "count    1460.000000  1460.000000  1460.000000  1460.000000  1460.000000   \n",
      "mean    10516.828082  1971.267808  1162.626712   346.992466     1.565068   \n",
      "std      9981.264932    30.202904   386.587738   436.528436     0.550916   \n",
      "min      1300.000000  1872.000000   334.000000     0.000000     0.000000   \n",
      "25%      7553.500000  1954.000000   882.000000     0.000000     1.000000   \n",
      "50%      9478.500000  1973.000000  1087.000000     0.000000     2.000000   \n",
      "75%     11601.500000  2000.000000  1391.250000   728.000000     2.000000   \n",
      "max    215245.000000  2010.000000  4692.000000  2065.000000     3.000000   \n",
      "\n",
      "       BedroomAbvGr  TotRmsAbvGrd  \n",
      "count   1460.000000   1460.000000  \n",
      "mean       2.866438      6.517808  \n",
      "std        0.815778      1.625393  \n",
      "min        0.000000      2.000000  \n",
      "25%        2.000000      5.000000  \n",
      "50%        3.000000      6.000000  \n",
      "75%        3.000000      7.000000  \n",
      "max        8.000000     14.000000  \n",
      "   LotArea  YearBuilt  1stFlrSF  2ndFlrSF  FullBath  BedroomAbvGr  \\\n",
      "0     8450       2003       856       854         2             3   \n",
      "1     9600       1976      1262         0         2             3   \n",
      "2    11250       2001       920       866         2             3   \n",
      "3     9550       1915       961       756         1             3   \n",
      "4    14260       2000      1145      1053         2             4   \n",
      "\n",
      "   TotRmsAbvGrd  \n",
      "0             8  \n",
      "1             6  \n",
      "2             6  \n",
      "3             7  \n",
      "4             9  \n"
     ]
    }
   ],
   "source": [
    "# Review data\n",
    "# print description or statistics from X\n",
    "print(X.describe())\n",
    "\n",
    "# print the top few lines\n",
    "print(X.head())"
   ]
  },
  {
   "cell_type": "markdown",
   "id": "cc378362",
   "metadata": {
    "papermill": {
     "duration": 0.004378,
     "end_time": "2022-09-01T02:14:53.071689",
     "exception": false,
     "start_time": "2022-09-01T02:14:53.067311",
     "status": "completed"
    },
    "tags": []
   },
   "source": [
    "## Step 3: Specify and Fit Model\n",
    "Create a `DecisionTreeRegressor` and save it iowa_model. Ensure you've done the relevant import from sklearn to run this command.\n",
    "\n",
    "Then fit the model you just created using the data in `X` and `y` that you saved above."
   ]
  },
  {
   "cell_type": "code",
   "execution_count": 8,
   "id": "99473861",
   "metadata": {
    "execution": {
     "iopub.execute_input": "2022-09-01T02:14:53.083171Z",
     "iopub.status.busy": "2022-09-01T02:14:53.082385Z",
     "iopub.status.idle": "2022-09-01T02:14:53.100870Z",
     "shell.execute_reply": "2022-09-01T02:14:53.099576Z"
    },
    "papermill": {
     "duration": 0.026858,
     "end_time": "2022-09-01T02:14:53.103088",
     "exception": false,
     "start_time": "2022-09-01T02:14:53.076230",
     "status": "completed"
    },
    "tags": []
   },
   "outputs": [
    {
     "data": {
      "application/javascript": [
       "parent.postMessage({\"jupyterEvent\": \"custom.exercise_interaction\", \"data\": {\"outcomeType\": 1, \"valueTowardsCompletion\": 0.25, \"interactionType\": 1, \"questionType\": 2, \"questionId\": \"3_CreateModel\", \"learnToolsVersion\": \"0.3.4\", \"failureMessage\": \"\", \"exceptionClass\": \"\", \"trace\": \"\"}}, \"*\")"
      ],
      "text/plain": [
       "<IPython.core.display.Javascript object>"
      ]
     },
     "metadata": {},
     "output_type": "display_data"
    },
    {
     "data": {
      "text/markdown": [
       "<span style=\"color:#33cc33\">Correct</span>"
      ],
      "text/plain": [
       "Correct"
      ]
     },
     "metadata": {},
     "output_type": "display_data"
    }
   ],
   "source": [
    " from sklearn.tree import DecisionTreeRegressor\n",
    "#specify the model. \n",
    "#For model reproducibility, set a numeric value for random_state when specifying the model\n",
    "iowa_model = DecisionTreeRegressor(random_state=1)\n",
    "\n",
    "# Fit the model\n",
    "iowa_model.fit(X,y)\n",
    "\n",
    "# Check your answer\n",
    "step_3.check()"
   ]
  },
  {
   "cell_type": "code",
   "execution_count": 9,
   "id": "9291b351",
   "metadata": {
    "collapsed": true,
    "execution": {
     "iopub.execute_input": "2022-09-01T02:14:53.115576Z",
     "iopub.status.busy": "2022-09-01T02:14:53.114832Z",
     "iopub.status.idle": "2022-09-01T02:14:53.120024Z",
     "shell.execute_reply": "2022-09-01T02:14:53.118660Z"
    },
    "jupyter": {
     "outputs_hidden": true
    },
    "papermill": {
     "duration": 0.013972,
     "end_time": "2022-09-01T02:14:53.122317",
     "exception": false,
     "start_time": "2022-09-01T02:14:53.108345",
     "status": "completed"
    },
    "tags": []
   },
   "outputs": [],
   "source": [
    "# step_3.hint()\n",
    "# step_3.solution()"
   ]
  },
  {
   "cell_type": "markdown",
   "id": "5bbea63f",
   "metadata": {
    "papermill": {
     "duration": 0.004924,
     "end_time": "2022-09-01T02:14:53.132464",
     "exception": false,
     "start_time": "2022-09-01T02:14:53.127540",
     "status": "completed"
    },
    "tags": []
   },
   "source": [
    "## Step 4: Make Predictions\n",
    "Make predictions with the model's `predict` command using `X` as the data. Save the results to a variable called `predictions`."
   ]
  },
  {
   "cell_type": "code",
   "execution_count": 10,
   "id": "94a9982d",
   "metadata": {
    "execution": {
     "iopub.execute_input": "2022-09-01T02:14:53.143986Z",
     "iopub.status.busy": "2022-09-01T02:14:53.143687Z",
     "iopub.status.idle": "2022-09-01T02:14:53.157386Z",
     "shell.execute_reply": "2022-09-01T02:14:53.156131Z"
    },
    "papermill": {
     "duration": 0.022166,
     "end_time": "2022-09-01T02:14:53.159729",
     "exception": false,
     "start_time": "2022-09-01T02:14:53.137563",
     "status": "completed"
    },
    "tags": []
   },
   "outputs": [
    {
     "name": "stdout",
     "output_type": "stream",
     "text": [
      "[208500. 181500. 223500. ... 266500. 142125. 147500.]\n"
     ]
    },
    {
     "data": {
      "application/javascript": [
       "parent.postMessage({\"jupyterEvent\": \"custom.exercise_interaction\", \"data\": {\"outcomeType\": 1, \"valueTowardsCompletion\": 0.25, \"interactionType\": 1, \"questionType\": 2, \"questionId\": \"4_MakePredictions\", \"learnToolsVersion\": \"0.3.4\", \"failureMessage\": \"\", \"exceptionClass\": \"\", \"trace\": \"\"}}, \"*\")"
      ],
      "text/plain": [
       "<IPython.core.display.Javascript object>"
      ]
     },
     "metadata": {},
     "output_type": "display_data"
    },
    {
     "data": {
      "text/markdown": [
       "<span style=\"color:#33cc33\">Correct</span>"
      ],
      "text/plain": [
       "Correct"
      ]
     },
     "metadata": {},
     "output_type": "display_data"
    }
   ],
   "source": [
    "predictions = iowa_model.predict(X)\n",
    "print(predictions)\n",
    "\n",
    "# Check your answer\n",
    "step_4.check()"
   ]
  },
  {
   "cell_type": "code",
   "execution_count": 11,
   "id": "5758def0",
   "metadata": {
    "collapsed": true,
    "execution": {
     "iopub.execute_input": "2022-09-01T02:14:53.172520Z",
     "iopub.status.busy": "2022-09-01T02:14:53.172149Z",
     "iopub.status.idle": "2022-09-01T02:14:53.176231Z",
     "shell.execute_reply": "2022-09-01T02:14:53.175241Z"
    },
    "jupyter": {
     "outputs_hidden": true
    },
    "papermill": {
     "duration": 0.012457,
     "end_time": "2022-09-01T02:14:53.178033",
     "exception": false,
     "start_time": "2022-09-01T02:14:53.165576",
     "status": "completed"
    },
    "tags": []
   },
   "outputs": [],
   "source": [
    "# step_4.hint()\n",
    "# step_4.solution()"
   ]
  },
  {
   "cell_type": "markdown",
   "id": "63dd6f80",
   "metadata": {
    "papermill": {
     "duration": 0.00522,
     "end_time": "2022-09-01T02:14:53.188894",
     "exception": false,
     "start_time": "2022-09-01T02:14:53.183674",
     "status": "completed"
    },
    "tags": []
   },
   "source": [
    "## Think About Your Results\n",
    "\n",
    "Use the `head` method to compare the top few predictions to the actual home values (in `y`) for those same homes. Anything surprising?\n"
   ]
  },
  {
   "cell_type": "code",
   "execution_count": 12,
   "id": "56d3e721",
   "metadata": {
    "execution": {
     "iopub.execute_input": "2022-09-01T02:14:53.201160Z",
     "iopub.status.busy": "2022-09-01T02:14:53.200811Z",
     "iopub.status.idle": "2022-09-01T02:14:53.205156Z",
     "shell.execute_reply": "2022-09-01T02:14:53.204259Z"
    },
    "papermill": {
     "duration": 0.01268,
     "end_time": "2022-09-01T02:14:53.207069",
     "exception": false,
     "start_time": "2022-09-01T02:14:53.194389",
     "status": "completed"
    },
    "tags": []
   },
   "outputs": [],
   "source": [
    "# You can write code in this cell\n"
   ]
  },
  {
   "cell_type": "markdown",
   "id": "3e02156d",
   "metadata": {
    "papermill": {
     "duration": 0.005375,
     "end_time": "2022-09-01T02:14:53.218026",
     "exception": false,
     "start_time": "2022-09-01T02:14:53.212651",
     "status": "completed"
    },
    "tags": []
   },
   "source": [
    "It's natural to ask how accurate the model's predictions will be and how you can improve that. That will be you're next step.\n",
    "\n",
    "# Keep Going\n",
    "\n",
    "You are ready for **[Model Validation](https://www.kaggle.com/dansbecker/model-validation).**\n"
   ]
  },
  {
   "cell_type": "markdown",
   "id": "7c102db9",
   "metadata": {
    "papermill": {
     "duration": 0.005135,
     "end_time": "2022-09-01T02:14:53.228916",
     "exception": false,
     "start_time": "2022-09-01T02:14:53.223781",
     "status": "completed"
    },
    "tags": []
   },
   "source": [
    "---\n",
    "\n",
    "\n",
    "\n",
    "\n",
    "*Have questions or comments? Visit the [course discussion forum](https://www.kaggle.com/learn/intro-to-machine-learning/discussion) to chat with other learners.*"
   ]
  }
 ],
 "metadata": {
  "kernelspec": {
   "display_name": "Python 3",
   "language": "python",
   "name": "python3"
  },
  "language_info": {
   "codemirror_mode": {
    "name": "ipython",
    "version": 3
   },
   "file_extension": ".py",
   "mimetype": "text/x-python",
   "name": "python",
   "nbconvert_exporter": "python",
   "pygments_lexer": "ipython3",
   "version": "3.7.12"
  },
  "papermill": {
   "default_parameters": {},
   "duration": 10.901136,
   "end_time": "2022-09-01T02:14:53.954148",
   "environment_variables": {},
   "exception": null,
   "input_path": "__notebook__.ipynb",
   "output_path": "__notebook__.ipynb",
   "parameters": {},
   "start_time": "2022-09-01T02:14:43.053012",
   "version": "2.3.4"
  }
 },
 "nbformat": 4,
 "nbformat_minor": 5
}
